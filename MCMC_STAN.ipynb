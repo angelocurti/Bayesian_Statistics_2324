{
  "nbformat": 4,
  "nbformat_minor": 0,
  "metadata": {
    "colab": {
      "provenance": []
    },
    "kernelspec": {
      "name": "python3",
      "display_name": "Python 3"
    },
    "language_info": {
      "name": "python"
    }
  },
  "cells": [
    {
      "cell_type": "code",
      "source": [
        "import arviz as az\n",
        "import matplotlib.pyplot as plt\n",
        "import numpy as np\n",
        "import os\n",
        "import pandas as pd\n",
        "\n",
        "# Import functions\n",
        "from cmdstanpy import CmdStanModel\n",
        "from tensorflow_probability.substrates import numpy as tfp\n",
        "tfd = tfp.distributions\n",
        "\n",
        "# Create ./stan folder if does not exists\n",
        "if not os.path.exists(\"./stan\"):\n",
        "    os.mkdir(\"./stan\")\n",
        "!pip install --upgrade cmdstanpy\n",
        "import cmdstanpy\n",
        "cmdstanpy.install_cmdstan()"
      ],
      "metadata": {
        "id": "6ADeSWRNlUTx"
      },
      "execution_count": null,
      "outputs": []
    },
    {
      "cell_type": "code",
      "execution_count": null,
      "metadata": {
        "id": "-Pdwrj3VlQ8N"
      },
      "outputs": [],
      "source": [
        "import jax.numpy as jnp\n",
        "from jax import grad, jit, vmap\n",
        "from jax import random\n",
        "import numpy as np\n",
        "import jax\n",
        "!pip install mycolorpy"
      ]
    },
    {
      "cell_type": "markdown",
      "source": [
        "# **Data** **Generation**"
      ],
      "metadata": {
        "id": "AIv1jf_3l5aE"
      }
    },
    {
      "cell_type": "code",
      "source": [
        "from IPython.utils.sysinfo import num_cpus\n",
        "\n",
        "# numero di cluster\n",
        "K=5\n",
        "\n",
        "# dimensione del campione\n",
        "d=2\n",
        "\n",
        "# numero di sample\n",
        "N=1000\n",
        "\n",
        "seed=2022\n",
        "key = random.PRNGKey(seed)\n",
        "# vectors of mean of clusters\n",
        "sigma=5\n",
        "mu=random.normal(key,(K,d))*sigma\n",
        "\n",
        "# cluster assignment\n",
        "key = random.PRNGKey(2)\n",
        "c=random.categorical(key,(1/K)*jnp.ones(shape=(K,)),axis=0,shape=(N,))\n",
        "C=np.zeros(shape=(N,K))\n",
        "for i in range(N):\n",
        "  C[i,c[i]]=1\n",
        "C=jnp.array(C)\n",
        "\n",
        "# Data\n",
        "X=jnp.matmul(C,mu)+random.normal(key,(N,d))\n",
        "import matplotlib.pyplot as plt\n",
        "\n",
        "for i in range(K):\n",
        "  plt.scatter(X[c==i,0],X[c==i,1])\n",
        "plt.show()"
      ],
      "metadata": {
        "id": "eqrDkNy6lUem"
      },
      "execution_count": null,
      "outputs": []
    },
    {
      "cell_type": "markdown",
      "source": [
        "Implementation of MCMC in STAN(based on hamiltonian MC)"
      ],
      "metadata": {
        "id": "GO9qJV0cmZgH"
      }
    },
    {
      "cell_type": "code",
      "source": [
        "gaussian_mix_uni = \"\"\"\n",
        "data {\n",
        "  int N;\n",
        "  int H;\n",
        "  array[N,2] real y;\n",
        "  array[2] real p0_params;\n",
        "}\n",
        "\n",
        "transformed data {\n",
        "  real mu0 = p0_params[1];\n",
        "  real sigma0 = p0_params[2];\n",
        " }\n",
        "\n",
        "parameters {\n",
        "  array[H] real means;\n",
        "  array[H] real <lower=0> std_devs;\n",
        "  simplex[H] weights;\n",
        " }\n",
        "\n",
        "\n",
        "model {\n",
        "\n",
        "   //Likelihood\n",
        "   vector[H] contributions;\n",
        "   for (i in 1:N){\n",
        "     for (h in 1:H){\n",
        "      contributions[h] = log(weights[h]) + normal_lpdf(y[i] | means[h], std_devs[h]);\n",
        "      }\n",
        "      target += log_sum_exp(contributions);\n",
        "    }\n",
        "\n",
        "\n",
        "   // Prior\n",
        "   means ~ normal(mu0, sigma0);\n",
        "   std_devs ~ uniform(0,10);\n",
        "   //weights ~ categorical(rep_array(1,H));\n",
        "\n",
        "}\n",
        "\n",
        "generated quantities{\n",
        "  }\n",
        "\"\"\"\n",
        "# Write stan model to file\n",
        "stan_file = \"./stan/gaussian_mix_uni.stan\"\n",
        "with open(stan_file, \"w\") as f:\n",
        "    print(gaussian_mix_uni, file=f)\n",
        "\n",
        "# Compile stan model\n",
        "gaussian_mix_uni = CmdStanModel(stan_file=stan_file)"
      ],
      "metadata": {
        "id": "T3Zf1Oq-lUoM"
      },
      "execution_count": null,
      "outputs": []
    },
    {
      "cell_type": "code",
      "source": [
        "# Input data\n",
        "gmm_data = {\n",
        "    \"N\": N,\n",
        "    \"H\": 4,\n",
        "    \"y\": X.tolist(),\n",
        "    \"p0_params\": np.array([0, 4]).tolist()\n",
        "}\n",
        "\n",
        "# Algorithm parameters\n",
        "algo_params = {\n",
        "    \"n_chains\": 4,\n",
        "    \"n_burnin\": 1000,\n",
        "    \"n_iter\": 1000\n",
        "}\n",
        "\n",
        "# Sample\n",
        "gmm_fit = gaussian_mix_uni.sample(data=gmm_data, chains=algo_params[\"n_chains\"], parallel_chains=algo_params[\"n_chains\"],\n",
        "                                  iter_warmup=algo_params[\"n_burnin\"], iter_sampling=algo_params[\"n_iter\"])\n",
        "gmm_fit\n",
        "# Convert to arviz data type\n",
        "#chains = az.from_cmdstanpy(gmm_fit)"
      ],
      "metadata": {
        "id": "qsGMqtj_rNJ6"
      },
      "execution_count": null,
      "outputs": []
    },
    {
      "cell_type": "code",
      "source": [
        "from google.colab import files\n",
        "\n",
        "# Access the output files\n",
        "csv_files = gmm_fit.runset.csv_files\n",
        "output_files = gmm_fit.runset.stdout_files\n",
        "\n",
        "# Download CSV files\n",
        "for csv_file in csv_files:\n",
        "    print(f\"Downloading CSV file: {csv_file}\")\n",
        "    files.download(csv_file)\n",
        "\n",
        "# Download stdout files\n",
        "for output_file in output_files:\n",
        "    print(f\"Downloading output file: {output_file}\")\n",
        "    files.download(output_file)"
      ],
      "metadata": {
        "colab": {
          "base_uri": "https://localhost:8080/",
          "height": 156
        },
        "id": "X_aqlhONjrOk",
        "outputId": "545640f0-36f2-446e-9e8b-241c3d0d4a09"
      },
      "execution_count": 52,
      "outputs": [
        {
          "output_type": "stream",
          "name": "stdout",
          "text": [
            "Downloading CSV file: /tmp/tmp_7dq1_q8/gaussian_mix_unijpnh568y/gaussian_mix_uni-20231112214710_1.csv\n"
          ]
        },
        {
          "output_type": "display_data",
          "data": {
            "text/plain": [
              "<IPython.core.display.Javascript object>"
            ],
            "application/javascript": [
              "\n",
              "    async function download(id, filename, size) {\n",
              "      if (!google.colab.kernel.accessAllowed) {\n",
              "        return;\n",
              "      }\n",
              "      const div = document.createElement('div');\n",
              "      const label = document.createElement('label');\n",
              "      label.textContent = `Downloading \"${filename}\": `;\n",
              "      div.appendChild(label);\n",
              "      const progress = document.createElement('progress');\n",
              "      progress.max = size;\n",
              "      div.appendChild(progress);\n",
              "      document.body.appendChild(div);\n",
              "\n",
              "      const buffers = [];\n",
              "      let downloaded = 0;\n",
              "\n",
              "      const channel = await google.colab.kernel.comms.open(id);\n",
              "      // Send a message to notify the kernel that we're ready.\n",
              "      channel.send({})\n",
              "\n",
              "      for await (const message of channel.messages) {\n",
              "        // Send a message to notify the kernel that we're ready.\n",
              "        channel.send({})\n",
              "        if (message.buffers) {\n",
              "          for (const buffer of message.buffers) {\n",
              "            buffers.push(buffer);\n",
              "            downloaded += buffer.byteLength;\n",
              "            progress.value = downloaded;\n",
              "          }\n",
              "        }\n",
              "      }\n",
              "      const blob = new Blob(buffers, {type: 'application/binary'});\n",
              "      const a = document.createElement('a');\n",
              "      a.href = window.URL.createObjectURL(blob);\n",
              "      a.download = filename;\n",
              "      div.appendChild(a);\n",
              "      a.click();\n",
              "      div.remove();\n",
              "    }\n",
              "  "
            ]
          },
          "metadata": {}
        },
        {
          "output_type": "display_data",
          "data": {
            "text/plain": [
              "<IPython.core.display.Javascript object>"
            ],
            "application/javascript": [
              "download(\"download_c4f07ddf-dfed-4e17-9be5-a3256f490047\", \"gaussian_mix_uni-20231112214710_1.csv\", 150609)"
            ]
          },
          "metadata": {}
        },
        {
          "output_type": "stream",
          "name": "stdout",
          "text": [
            "Downloading CSV file: /tmp/tmp_7dq1_q8/gaussian_mix_unijpnh568y/gaussian_mix_uni-20231112214710_2.csv\n"
          ]
        },
        {
          "output_type": "display_data",
          "data": {
            "text/plain": [
              "<IPython.core.display.Javascript object>"
            ],
            "application/javascript": [
              "\n",
              "    async function download(id, filename, size) {\n",
              "      if (!google.colab.kernel.accessAllowed) {\n",
              "        return;\n",
              "      }\n",
              "      const div = document.createElement('div');\n",
              "      const label = document.createElement('label');\n",
              "      label.textContent = `Downloading \"${filename}\": `;\n",
              "      div.appendChild(label);\n",
              "      const progress = document.createElement('progress');\n",
              "      progress.max = size;\n",
              "      div.appendChild(progress);\n",
              "      document.body.appendChild(div);\n",
              "\n",
              "      const buffers = [];\n",
              "      let downloaded = 0;\n",
              "\n",
              "      const channel = await google.colab.kernel.comms.open(id);\n",
              "      // Send a message to notify the kernel that we're ready.\n",
              "      channel.send({})\n",
              "\n",
              "      for await (const message of channel.messages) {\n",
              "        // Send a message to notify the kernel that we're ready.\n",
              "        channel.send({})\n",
              "        if (message.buffers) {\n",
              "          for (const buffer of message.buffers) {\n",
              "            buffers.push(buffer);\n",
              "            downloaded += buffer.byteLength;\n",
              "            progress.value = downloaded;\n",
              "          }\n",
              "        }\n",
              "      }\n",
              "      const blob = new Blob(buffers, {type: 'application/binary'});\n",
              "      const a = document.createElement('a');\n",
              "      a.href = window.URL.createObjectURL(blob);\n",
              "      a.download = filename;\n",
              "      div.appendChild(a);\n",
              "      a.click();\n",
              "      div.remove();\n",
              "    }\n",
              "  "
            ]
          },
          "metadata": {}
        },
        {
          "output_type": "display_data",
          "data": {
            "text/plain": [
              "<IPython.core.display.Javascript object>"
            ],
            "application/javascript": [
              "download(\"download_62d46ba3-488a-4abf-a5f8-2d11b1614024\", \"gaussian_mix_uni-20231112214710_2.csv\", 150817)"
            ]
          },
          "metadata": {}
        },
        {
          "output_type": "stream",
          "name": "stdout",
          "text": [
            "Downloading CSV file: /tmp/tmp_7dq1_q8/gaussian_mix_unijpnh568y/gaussian_mix_uni-20231112214710_3.csv\n"
          ]
        },
        {
          "output_type": "display_data",
          "data": {
            "text/plain": [
              "<IPython.core.display.Javascript object>"
            ],
            "application/javascript": [
              "\n",
              "    async function download(id, filename, size) {\n",
              "      if (!google.colab.kernel.accessAllowed) {\n",
              "        return;\n",
              "      }\n",
              "      const div = document.createElement('div');\n",
              "      const label = document.createElement('label');\n",
              "      label.textContent = `Downloading \"${filename}\": `;\n",
              "      div.appendChild(label);\n",
              "      const progress = document.createElement('progress');\n",
              "      progress.max = size;\n",
              "      div.appendChild(progress);\n",
              "      document.body.appendChild(div);\n",
              "\n",
              "      const buffers = [];\n",
              "      let downloaded = 0;\n",
              "\n",
              "      const channel = await google.colab.kernel.comms.open(id);\n",
              "      // Send a message to notify the kernel that we're ready.\n",
              "      channel.send({})\n",
              "\n",
              "      for await (const message of channel.messages) {\n",
              "        // Send a message to notify the kernel that we're ready.\n",
              "        channel.send({})\n",
              "        if (message.buffers) {\n",
              "          for (const buffer of message.buffers) {\n",
              "            buffers.push(buffer);\n",
              "            downloaded += buffer.byteLength;\n",
              "            progress.value = downloaded;\n",
              "          }\n",
              "        }\n",
              "      }\n",
              "      const blob = new Blob(buffers, {type: 'application/binary'});\n",
              "      const a = document.createElement('a');\n",
              "      a.href = window.URL.createObjectURL(blob);\n",
              "      a.download = filename;\n",
              "      div.appendChild(a);\n",
              "      a.click();\n",
              "      div.remove();\n",
              "    }\n",
              "  "
            ]
          },
          "metadata": {}
        },
        {
          "output_type": "display_data",
          "data": {
            "text/plain": [
              "<IPython.core.display.Javascript object>"
            ],
            "application/javascript": [
              "download(\"download_899ba1b0-e8cd-4b8b-abaa-949f25fc88a0\", \"gaussian_mix_uni-20231112214710_3.csv\", 150594)"
            ]
          },
          "metadata": {}
        },
        {
          "output_type": "stream",
          "name": "stdout",
          "text": [
            "Downloading CSV file: /tmp/tmp_7dq1_q8/gaussian_mix_unijpnh568y/gaussian_mix_uni-20231112214710_4.csv\n"
          ]
        },
        {
          "output_type": "display_data",
          "data": {
            "text/plain": [
              "<IPython.core.display.Javascript object>"
            ],
            "application/javascript": [
              "\n",
              "    async function download(id, filename, size) {\n",
              "      if (!google.colab.kernel.accessAllowed) {\n",
              "        return;\n",
              "      }\n",
              "      const div = document.createElement('div');\n",
              "      const label = document.createElement('label');\n",
              "      label.textContent = `Downloading \"${filename}\": `;\n",
              "      div.appendChild(label);\n",
              "      const progress = document.createElement('progress');\n",
              "      progress.max = size;\n",
              "      div.appendChild(progress);\n",
              "      document.body.appendChild(div);\n",
              "\n",
              "      const buffers = [];\n",
              "      let downloaded = 0;\n",
              "\n",
              "      const channel = await google.colab.kernel.comms.open(id);\n",
              "      // Send a message to notify the kernel that we're ready.\n",
              "      channel.send({})\n",
              "\n",
              "      for await (const message of channel.messages) {\n",
              "        // Send a message to notify the kernel that we're ready.\n",
              "        channel.send({})\n",
              "        if (message.buffers) {\n",
              "          for (const buffer of message.buffers) {\n",
              "            buffers.push(buffer);\n",
              "            downloaded += buffer.byteLength;\n",
              "            progress.value = downloaded;\n",
              "          }\n",
              "        }\n",
              "      }\n",
              "      const blob = new Blob(buffers, {type: 'application/binary'});\n",
              "      const a = document.createElement('a');\n",
              "      a.href = window.URL.createObjectURL(blob);\n",
              "      a.download = filename;\n",
              "      div.appendChild(a);\n",
              "      a.click();\n",
              "      div.remove();\n",
              "    }\n",
              "  "
            ]
          },
          "metadata": {}
        },
        {
          "output_type": "display_data",
          "data": {
            "text/plain": [
              "<IPython.core.display.Javascript object>"
            ],
            "application/javascript": [
              "download(\"download_0a0211e8-fa26-4615-a2b1-498a14764c15\", \"gaussian_mix_uni-20231112214710_4.csv\", 148488)"
            ]
          },
          "metadata": {}
        },
        {
          "output_type": "stream",
          "name": "stdout",
          "text": [
            "Downloading output file: /tmp/tmp_7dq1_q8/gaussian_mix_unijpnh568y/gaussian_mix_uni-20231112214710_0-stdout.txt\n"
          ]
        },
        {
          "output_type": "display_data",
          "data": {
            "text/plain": [
              "<IPython.core.display.Javascript object>"
            ],
            "application/javascript": [
              "\n",
              "    async function download(id, filename, size) {\n",
              "      if (!google.colab.kernel.accessAllowed) {\n",
              "        return;\n",
              "      }\n",
              "      const div = document.createElement('div');\n",
              "      const label = document.createElement('label');\n",
              "      label.textContent = `Downloading \"${filename}\": `;\n",
              "      div.appendChild(label);\n",
              "      const progress = document.createElement('progress');\n",
              "      progress.max = size;\n",
              "      div.appendChild(progress);\n",
              "      document.body.appendChild(div);\n",
              "\n",
              "      const buffers = [];\n",
              "      let downloaded = 0;\n",
              "\n",
              "      const channel = await google.colab.kernel.comms.open(id);\n",
              "      // Send a message to notify the kernel that we're ready.\n",
              "      channel.send({})\n",
              "\n",
              "      for await (const message of channel.messages) {\n",
              "        // Send a message to notify the kernel that we're ready.\n",
              "        channel.send({})\n",
              "        if (message.buffers) {\n",
              "          for (const buffer of message.buffers) {\n",
              "            buffers.push(buffer);\n",
              "            downloaded += buffer.byteLength;\n",
              "            progress.value = downloaded;\n",
              "          }\n",
              "        }\n",
              "      }\n",
              "      const blob = new Blob(buffers, {type: 'application/binary'});\n",
              "      const a = document.createElement('a');\n",
              "      a.href = window.URL.createObjectURL(blob);\n",
              "      a.download = filename;\n",
              "      div.appendChild(a);\n",
              "      a.click();\n",
              "      div.remove();\n",
              "    }\n",
              "  "
            ]
          },
          "metadata": {}
        },
        {
          "output_type": "display_data",
          "data": {
            "text/plain": [
              "<IPython.core.display.Javascript object>"
            ],
            "application/javascript": [
              "download(\"download_d9c24eda-5bdb-4ba1-a1f2-44b171a4b4d6\", \"gaussian_mix_uni-20231112214710_0-stdout.txt\", 2254)"
            ]
          },
          "metadata": {}
        },
        {
          "output_type": "stream",
          "name": "stdout",
          "text": [
            "Downloading output file: /tmp/tmp_7dq1_q8/gaussian_mix_unijpnh568y/gaussian_mix_uni-20231112214710_1-stdout.txt\n"
          ]
        },
        {
          "output_type": "display_data",
          "data": {
            "text/plain": [
              "<IPython.core.display.Javascript object>"
            ],
            "application/javascript": [
              "\n",
              "    async function download(id, filename, size) {\n",
              "      if (!google.colab.kernel.accessAllowed) {\n",
              "        return;\n",
              "      }\n",
              "      const div = document.createElement('div');\n",
              "      const label = document.createElement('label');\n",
              "      label.textContent = `Downloading \"${filename}\": `;\n",
              "      div.appendChild(label);\n",
              "      const progress = document.createElement('progress');\n",
              "      progress.max = size;\n",
              "      div.appendChild(progress);\n",
              "      document.body.appendChild(div);\n",
              "\n",
              "      const buffers = [];\n",
              "      let downloaded = 0;\n",
              "\n",
              "      const channel = await google.colab.kernel.comms.open(id);\n",
              "      // Send a message to notify the kernel that we're ready.\n",
              "      channel.send({})\n",
              "\n",
              "      for await (const message of channel.messages) {\n",
              "        // Send a message to notify the kernel that we're ready.\n",
              "        channel.send({})\n",
              "        if (message.buffers) {\n",
              "          for (const buffer of message.buffers) {\n",
              "            buffers.push(buffer);\n",
              "            downloaded += buffer.byteLength;\n",
              "            progress.value = downloaded;\n",
              "          }\n",
              "        }\n",
              "      }\n",
              "      const blob = new Blob(buffers, {type: 'application/binary'});\n",
              "      const a = document.createElement('a');\n",
              "      a.href = window.URL.createObjectURL(blob);\n",
              "      a.download = filename;\n",
              "      div.appendChild(a);\n",
              "      a.click();\n",
              "      div.remove();\n",
              "    }\n",
              "  "
            ]
          },
          "metadata": {}
        },
        {
          "output_type": "display_data",
          "data": {
            "text/plain": [
              "<IPython.core.display.Javascript object>"
            ],
            "application/javascript": [
              "download(\"download_04e8e0f1-6e86-4175-9b1e-bcec2442ab43\", \"gaussian_mix_uni-20231112214710_1-stdout.txt\", 2243)"
            ]
          },
          "metadata": {}
        },
        {
          "output_type": "stream",
          "name": "stdout",
          "text": [
            "Downloading output file: /tmp/tmp_7dq1_q8/gaussian_mix_unijpnh568y/gaussian_mix_uni-20231112214710_2-stdout.txt\n"
          ]
        },
        {
          "output_type": "display_data",
          "data": {
            "text/plain": [
              "<IPython.core.display.Javascript object>"
            ],
            "application/javascript": [
              "\n",
              "    async function download(id, filename, size) {\n",
              "      if (!google.colab.kernel.accessAllowed) {\n",
              "        return;\n",
              "      }\n",
              "      const div = document.createElement('div');\n",
              "      const label = document.createElement('label');\n",
              "      label.textContent = `Downloading \"${filename}\": `;\n",
              "      div.appendChild(label);\n",
              "      const progress = document.createElement('progress');\n",
              "      progress.max = size;\n",
              "      div.appendChild(progress);\n",
              "      document.body.appendChild(div);\n",
              "\n",
              "      const buffers = [];\n",
              "      let downloaded = 0;\n",
              "\n",
              "      const channel = await google.colab.kernel.comms.open(id);\n",
              "      // Send a message to notify the kernel that we're ready.\n",
              "      channel.send({})\n",
              "\n",
              "      for await (const message of channel.messages) {\n",
              "        // Send a message to notify the kernel that we're ready.\n",
              "        channel.send({})\n",
              "        if (message.buffers) {\n",
              "          for (const buffer of message.buffers) {\n",
              "            buffers.push(buffer);\n",
              "            downloaded += buffer.byteLength;\n",
              "            progress.value = downloaded;\n",
              "          }\n",
              "        }\n",
              "      }\n",
              "      const blob = new Blob(buffers, {type: 'application/binary'});\n",
              "      const a = document.createElement('a');\n",
              "      a.href = window.URL.createObjectURL(blob);\n",
              "      a.download = filename;\n",
              "      div.appendChild(a);\n",
              "      a.click();\n",
              "      div.remove();\n",
              "    }\n",
              "  "
            ]
          },
          "metadata": {}
        },
        {
          "output_type": "display_data",
          "data": {
            "text/plain": [
              "<IPython.core.display.Javascript object>"
            ],
            "application/javascript": [
              "download(\"download_5558dd5f-f27b-43de-8045-5d199065262c\", \"gaussian_mix_uni-20231112214710_2-stdout.txt\", 2244)"
            ]
          },
          "metadata": {}
        },
        {
          "output_type": "stream",
          "name": "stdout",
          "text": [
            "Downloading output file: /tmp/tmp_7dq1_q8/gaussian_mix_unijpnh568y/gaussian_mix_uni-20231112214710_3-stdout.txt\n"
          ]
        },
        {
          "output_type": "display_data",
          "data": {
            "text/plain": [
              "<IPython.core.display.Javascript object>"
            ],
            "application/javascript": [
              "\n",
              "    async function download(id, filename, size) {\n",
              "      if (!google.colab.kernel.accessAllowed) {\n",
              "        return;\n",
              "      }\n",
              "      const div = document.createElement('div');\n",
              "      const label = document.createElement('label');\n",
              "      label.textContent = `Downloading \"${filename}\": `;\n",
              "      div.appendChild(label);\n",
              "      const progress = document.createElement('progress');\n",
              "      progress.max = size;\n",
              "      div.appendChild(progress);\n",
              "      document.body.appendChild(div);\n",
              "\n",
              "      const buffers = [];\n",
              "      let downloaded = 0;\n",
              "\n",
              "      const channel = await google.colab.kernel.comms.open(id);\n",
              "      // Send a message to notify the kernel that we're ready.\n",
              "      channel.send({})\n",
              "\n",
              "      for await (const message of channel.messages) {\n",
              "        // Send a message to notify the kernel that we're ready.\n",
              "        channel.send({})\n",
              "        if (message.buffers) {\n",
              "          for (const buffer of message.buffers) {\n",
              "            buffers.push(buffer);\n",
              "            downloaded += buffer.byteLength;\n",
              "            progress.value = downloaded;\n",
              "          }\n",
              "        }\n",
              "      }\n",
              "      const blob = new Blob(buffers, {type: 'application/binary'});\n",
              "      const a = document.createElement('a');\n",
              "      a.href = window.URL.createObjectURL(blob);\n",
              "      a.download = filename;\n",
              "      div.appendChild(a);\n",
              "      a.click();\n",
              "      div.remove();\n",
              "    }\n",
              "  "
            ]
          },
          "metadata": {}
        },
        {
          "output_type": "display_data",
          "data": {
            "text/plain": [
              "<IPython.core.display.Javascript object>"
            ],
            "application/javascript": [
              "download(\"download_aa284398-eadb-4747-8a61-24022177e0fc\", \"gaussian_mix_uni-20231112214710_3-stdout.txt\", 2726)"
            ]
          },
          "metadata": {}
        }
      ]
    }
  ]
}