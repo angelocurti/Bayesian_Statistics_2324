{
  "nbformat": 4,
  "nbformat_minor": 0,
  "metadata": {
    "colab": {
      "provenance": []
    },
    "kernelspec": {
      "name": "python3",
      "display_name": "Python 3"
    },
    "language_info": {
      "name": "python"
    }
  },
  "cells": [
    {
      "cell_type": "code",
      "execution_count": 4,
      "metadata": {
        "colab": {
          "base_uri": "https://localhost:8080/"
        },
        "id": "4S7_Dj4ZwpqQ",
        "outputId": "be1ac1da-2fa1-467c-fd48-29d84bb6c14f"
      },
      "outputs": [
        {
          "output_type": "stream",
          "name": "stdout",
          "text": [
            "Collecting mycolorpy\n",
            "  Downloading mycolorpy-1.5.1.tar.gz (2.5 kB)\n",
            "  Preparing metadata (setup.py) ... \u001b[?25l\u001b[?25hdone\n",
            "Requirement already satisfied: numpy in /usr/local/lib/python3.10/dist-packages (from mycolorpy) (1.23.5)\n",
            "Requirement already satisfied: matplotlib in /usr/local/lib/python3.10/dist-packages (from mycolorpy) (3.7.1)\n",
            "Requirement already satisfied: contourpy>=1.0.1 in /usr/local/lib/python3.10/dist-packages (from matplotlib->mycolorpy) (1.2.0)\n",
            "Requirement already satisfied: cycler>=0.10 in /usr/local/lib/python3.10/dist-packages (from matplotlib->mycolorpy) (0.12.1)\n",
            "Requirement already satisfied: fonttools>=4.22.0 in /usr/local/lib/python3.10/dist-packages (from matplotlib->mycolorpy) (4.48.1)\n",
            "Requirement already satisfied: kiwisolver>=1.0.1 in /usr/local/lib/python3.10/dist-packages (from matplotlib->mycolorpy) (1.4.5)\n",
            "Requirement already satisfied: packaging>=20.0 in /usr/local/lib/python3.10/dist-packages (from matplotlib->mycolorpy) (23.2)\n",
            "Requirement already satisfied: pillow>=6.2.0 in /usr/local/lib/python3.10/dist-packages (from matplotlib->mycolorpy) (9.4.0)\n",
            "Requirement already satisfied: pyparsing>=2.3.1 in /usr/local/lib/python3.10/dist-packages (from matplotlib->mycolorpy) (3.1.1)\n",
            "Requirement already satisfied: python-dateutil>=2.7 in /usr/local/lib/python3.10/dist-packages (from matplotlib->mycolorpy) (2.8.2)\n",
            "Requirement already satisfied: six>=1.5 in /usr/local/lib/python3.10/dist-packages (from python-dateutil>=2.7->matplotlib->mycolorpy) (1.16.0)\n",
            "Building wheels for collected packages: mycolorpy\n",
            "  Building wheel for mycolorpy (setup.py) ... \u001b[?25l\u001b[?25hdone\n",
            "  Created wheel for mycolorpy: filename=mycolorpy-1.5.1-py3-none-any.whl size=3851 sha256=c37b31831a84fb8adf0034154234f3c9aefb3a7730a8f91ad1d975517af4dbff\n",
            "  Stored in directory: /root/.cache/pip/wheels/d6/1d/04/f8bfb8b04e3daba330b3f377c041b89304271ff98fb6704946\n",
            "Successfully built mycolorpy\n",
            "Installing collected packages: mycolorpy\n",
            "Successfully installed mycolorpy-1.5.1\n"
          ]
        }
      ],
      "source": [
        "import jax.numpy as jnp\n",
        "from jax import grad, jit, vmap\n",
        "from jax import random\n",
        "import numpy as np\n",
        "import jax\n",
        "from scipy.stats import beta\n",
        "from jax.scipy.special import betaln\n",
        "from jax.scipy.special import gammaln\n",
        "from jax.scipy.special import digamma\n",
        "from numpy.random import multivariate_normal as mvn\n",
        "from numpy.random import gamma\n",
        "import matplotlib.pyplot as plt\n",
        "from matplotlib import cm\n",
        "from scipy.stats import multivariate_normal\n",
        "from sklearn.metrics import adjusted_rand_score\n",
        "import matplotlib.pyplot as plt\n",
        "!pip install mycolorpy\n",
        "from mycolorpy import colorlist as mcp\n",
        "from scipy.stats import bernoulli"
      ]
    },
    {
      "cell_type": "code",
      "source": [
        "from jax import config\n",
        "config.update(\"jax_enable_x64\", True)"
      ],
      "metadata": {
        "id": "S_oF-iCljqCc"
      },
      "execution_count": 5,
      "outputs": []
    },
    {
      "cell_type": "code",
      "source": [
        "seed = 2022\n",
        "key = random.PRNGKey(seed)\n",
        "\n",
        "n = 1000\n",
        "d = 2"
      ],
      "metadata": {
        "id": "STbxIi84xi8s"
      },
      "execution_count": 6,
      "outputs": []
    },
    {
      "cell_type": "code",
      "source": [
        "# n of cluster and pi generation\n",
        "K = 50\n",
        "\n",
        "alpha = 5.0 #bigger alpha, more clusters\n",
        "vi = beta.rvs(alpha, 1, size = K)\n",
        "\n",
        "pi = np.cumprod(vi)"
      ],
      "metadata": {
        "id": "zqYrHWtixmMZ"
      },
      "execution_count": 7,
      "outputs": []
    },
    {
      "cell_type": "code",
      "source": [
        "# Z generation\n",
        "\n",
        "Z = np.zeros((n,K))\n",
        "\n",
        "for i in range(0, n):\n",
        "  for j in range(0, K):\n",
        "    Z[i,j] = bernoulli.rvs(pi[j])"
      ],
      "metadata": {
        "id": "mLl2PEGT2i4m"
      },
      "execution_count": 8,
      "outputs": []
    },
    {
      "cell_type": "code",
      "source": [
        "# A generation\n",
        "\n",
        "A = np.zeros((K,d))\n",
        "sigma2a = 5.0\n",
        "Id = np.eye(d)\n",
        "mu0 = np.zeros(d)\n",
        "\n",
        "for i in range(0, K):\n",
        "  A[i] = mvn(mu0, sigma2a*Id)"
      ],
      "metadata": {
        "id": "NIaHd9vl9NKy"
      },
      "execution_count": 9,
      "outputs": []
    },
    {
      "cell_type": "code",
      "source": [
        "# Finally X\n",
        "X=np.zeros((n,d))\n",
        "sigma2x=1.0\n",
        "for i in range(n):\n",
        "  X[i,:] = mvn(jnp.matmul(Z[i,:],A),sigma2x*Id)"
      ],
      "metadata": {
        "id": "ezGZIU8y_18M"
      },
      "execution_count": 10,
      "outputs": []
    },
    {
      "cell_type": "code",
      "source": [
        "x = X[:,0]\n",
        "y = X[:,1]\n",
        "\n",
        "plt.scatter(x, y)\n",
        "plt.show()"
      ],
      "metadata": {
        "colab": {
          "base_uri": "https://localhost:8080/",
          "height": 430
        },
        "id": "yGuPy7mAH78f",
        "outputId": "c2920826-2f70-4761-db1c-95e7ec63bc89"
      },
      "execution_count": 11,
      "outputs": [
        {
          "output_type": "display_data",
          "data": {
            "text/plain": [
              "<Figure size 640x480 with 1 Axes>"
            ],
            "image/png": "[encoded data removed]"
          },
          "metadata": {}
        }
      ]
    },
    {
      "cell_type": "code",
      "source": [
        "def update_tau(nu,alpha):\n",
        "  K=nu.shape[1]\n",
        "  N=nu.shape[0]\n",
        "  updated_tau=jnp.zeros((K,2))\n",
        "  updated_tau=updated_tau.at[:,0].set(jnp.sum(nu,axis=0)+alpha/K)\n",
        "  updated_tau=updated_tau.at[:,1].set(N-jnp.sum(nu,axis=0)+1)\n",
        "  return updated_tau\n",
        "\n",
        "update_tau_jit=jit(update_tau)\n",
        "\n",
        "def update_nu(data,phi_means,phi_variances,nu,sigma2x,alpha,tau):\n",
        "  N=data.shape[0]\n",
        "  K=phi_means.shape[0]\n",
        "  d=data.shape[1]\n",
        "  log_likelihood=jnp.zeros((N,K),dtype=jnp.float64)\n",
        "  updated_nu=jnp.zeros((N,K),dtype=jnp.float64)\n",
        "  log_likelihood=log_likelihood.at[:,:].add(1/sigma2x*(data @ phi_means.T - ((nu @ phi_means) @ phi_means.T)))\n",
        "  log_likelihood=log_likelihood.at[:,:].add(1/sigma2x*nu*jnp.resize(jnp.diag(phi_means @ phi_means.T),(K)) + digamma(tau[:,0])-digamma(tau[:,1]))\n",
        "  log_likelihood=log_likelihood.at[:,:].add(-0.5/sigma2x*jnp.resize(d*phi_variances,(K,)))\n",
        "  log_likelihood=log_likelihood.at[:,:].add(-0.5/sigma2x*jnp.resize(jnp.diag(phi_means @ phi_means.T),(K,)))\n",
        "  updated_nu=1/(1+jnp.exp(-log_likelihood))\n",
        "  updated_nu=updated_nu.at[:,:].max(10**(-307))\n",
        "  updated_nu=updated_nu.at[:,:].min(1-10**(-5))\n",
        "  return updated_nu\n",
        "\n",
        "update_nu_jit=jit(update_nu)\n",
        "\n",
        "def update_phi(data,nu,sigma2a,sigma2x,phi_means):\n",
        "  N=data.shape[0]\n",
        "  d=data.shape[1]\n",
        "  K=nu.shape[1]\n",
        "  updated_phi_means=jnp.zeros((K,d))\n",
        "  updated_phi_variances=jnp.zeros(K)\n",
        "  updated_phi_variances=1/(jnp.sum(nu,axis=0)/sigma2x+1/sigma2a)\n",
        "  updated_phi_means= 1/sigma2x*(nu.T @ data - (nu.T @ (nu @ phi_means))+jnp.sum(nu**2,axis=0)[:,None]*phi_means)*updated_phi_variances[:,None]\n",
        "  return updated_phi_means,updated_phi_variances\n",
        "\n",
        "update_phi_jit=jit(update_phi)"
      ],
      "metadata": {
        "id": "KxK0bL63Mumi"
      },
      "execution_count": 141,
      "outputs": []
    },
    {
      "cell_type": "code",
      "source": [
        "def compute_ELBO(data,phi_means,phi_variances,tau,nu,sigma2a,sigma2x,alpha):\n",
        "  K=phi_means.shape[0]\n",
        "  d=data.shape[1]\n",
        "  N=data.shape[0]\n",
        "  T1=jnp.sum(betaln(tau[:,0],tau[:,1]))+jnp.sum(-(tau[:,0]-1)*digamma(tau[:,0])-(tau[:,1]-1)*digamma(tau[:,1])+(tau[:,0]+tau[:,1]-2)*digamma(tau[:,0]+tau[:,1]))\n",
        "  T1+= d/2*jnp.sum(jnp.log(phi_variances))\n",
        "  T1+= jnp.sum(-nu*jnp.log2(nu)-(1-nu)*jnp.log2(1-nu))\n",
        "\n",
        "  T2=(alpha/K-1)*jnp.sum(digamma(tau[:,0])-digamma(tau[:,0]+tau[:,1]))\n",
        "\n",
        "  T3 = -0.5/sigma2a*((jnp.sum(d*phi_variances)) + jnp.sum(jnp.diag(phi_means @ phi_means.T)))\n",
        "\n",
        "  T4 = jnp.sum( nu @ (digamma(tau[:,0])-digamma(tau[:,0]+tau[:,1])) + (1-nu) @ (digamma(tau[:,1])-digamma(tau[:,0]+tau[:,1])))\n",
        "\n",
        "  T5 = -0.5/sigma2x*(-2*jnp.sum(jnp.diag((nu @ phi_means) @ data.T))+ jnp.sum(nu @ (d*phi_variances + jnp.diag(phi_means @ phi_means.T))))\n",
        "\n",
        "  return T1+T2+T3+T4+T5\n",
        "\n",
        "compute_ELBO_jit=jit(compute_ELBO)"
      ],
      "metadata": {
        "id": "rgbSXqEiVD6p"
      },
      "execution_count": 142,
      "outputs": []
    },
    {
      "cell_type": "code",
      "source": [
        "def single_iteration_VI(data,K,i,nMax,tol,sigma2a,sigma2x,alpha):\n",
        "\n",
        "  # initialize the parameters\n",
        "  N=data.shape[0]\n",
        "  d=data.shape[1]\n",
        "  key = random.PRNGKey(i*seed)\n",
        "  # random initialization of the variational parameters\n",
        "  phi_means=random.normal(key,shape=(K,d))*jnp.sqrt(sigma2a)\n",
        "  phi_variances= random.gamma(key,a=2.0,shape=(K,))\n",
        "  tau=jnp.array(random.geometric(key,0.25,(K,2)), dtype=jnp.float64)\n",
        "  nu=random.uniform(key,shape=(N,K),dtype=jnp.float64)\n",
        "  improvement=1\n",
        "  ELBO_new= compute_ELBO_jit(data,phi_means,phi_variances,tau,nu,sigma2a,sigma2x,alpha)\n",
        "  ELBO_old=ELBO_new-1\n",
        "  nit=0\n",
        "\n",
        "  # codition funztion for the while loop\n",
        "  def cond(state):\n",
        "    _,_,_,_,_,_,_,_,nit,_,improvement,tol,nMax=state\n",
        "    return (((improvement>tol) & (nit<nMax)))\n",
        "\n",
        "  # body function for the while loop\n",
        "  def iteration_while(state):\n",
        "    data,tau,nu,phi_variances,phi_means,sigma2a,sigma2x,alpha,nit,ELBO_new,improvement,tol,nMax=state\n",
        "    # update of variational parameters\n",
        "    phi_means,phi_variances=update_phi_jit(data,nu,sigma2a,sigma2x,phi_means)\n",
        "    tau=update_tau_jit(nu,alpha)\n",
        "    nu=update_nu_jit(data,phi_means,phi_variances,nu,sigma2x,alpha,tau)\n",
        "    # we resize tau2 this way for matrix multiplications\n",
        "    ELBO_old=ELBO_new\n",
        "    # computation of ELBO and imporvement\n",
        "    ELBO_new=compute_ELBO_jit(data,phi_means,phi_variances,tau,nu,sigma2a,sigma2x,alpha)\n",
        "    improvement=ELBO_new-ELBO_old\n",
        "    nit+=1\n",
        "    return (data,tau,nu,phi_variances,phi_means,sigma2a,sigma2x,alpha,nit,ELBO_new,improvement,tol,nMax)\n",
        "\n",
        "  state=(data,tau,nu,phi_variances,phi_means,sigma2a,sigma2x,alpha,nit,ELBO_new,improvement,tol,nMax)\n",
        "  _,tau,nu,phi_variances,phi_means,_,_,_,nit,ELBO_new,_,_,_=jax.lax.while_loop(cond_fun=cond,body_fun=iteration_while,init_val=state)\n",
        "\n",
        "  return  tau,phi_means,phi_variances,nu,ELBO_new,nit\n",
        "\n",
        "single_iteration_VI_jit=jit(single_iteration_VI,static_argnames=['K'])"
      ],
      "metadata": {
        "id": "b1sVkUMwTE66"
      },
      "execution_count": 143,
      "outputs": []
    },
    {
      "cell_type": "code",
      "source": [
        "def VI(data,K,nMax,n_iniz,tol,sigma2a,sigma2x,alpha):\n",
        "  ELBO_max=0\n",
        "  for i in range(n_iniz):\n",
        "    # every iteration we call the algorithm function, then if the ELBO is better than the one before we save it, otherwise we simply go on\n",
        "    tau,phi_means,phi_variances,nu,ELBO_new,nit=single_iteration_VI_jit(data,K,i,nMax,tol,sigma2a,sigma2x,alpha)\n",
        "    if i==0:\n",
        "      ELBO_max=ELBO_new\n",
        "      phi_means_max=phi_means\n",
        "      phi_variances_max=phi_variances\n",
        "      tau_max=tau\n",
        "      nu_max=nu\n",
        "      n_max=0\n",
        "    print('Initialization number: ',i+1,'\\t ELBO: ',ELBO_new,'\\t N_iterations: ',nit)\n",
        "    print('=================================================\\n')\n",
        "    if ELBO_new>ELBO_max:\n",
        "      ELBO_max=ELBO_new\n",
        "      phi_means_max=phi_means\n",
        "      phi_variances_max=phi_variances\n",
        "      tau_max=tau\n",
        "      nu_max=nu\n",
        "      n_max=i\n",
        "  print('Best initialization at ',n_max+1,' \\t ELBO: ',ELBO_max,'\\n\\n')\n",
        "  return tau,phi_means,phi_variances,nu\n"
      ],
      "metadata": {
        "id": "CmX4SzwNSGrY"
      },
      "execution_count": 144,
      "outputs": []
    },
    {
      "cell_type": "code",
      "source": [
        "nMax=1000\n",
        "n_iniz=100\n",
        "tol=10**-16\n",
        "tau,means,variances,nu=VI(X,K,nMax,n_iniz,tol,sigma2a,sigma2x,alpha)"
      ],
      "metadata": {
        "id": "R6IezQnHUexc",
        "outputId": "c4bed263-b0f9-4df1-ee3a-40556bee5f36",
        "colab": {
          "base_uri": "https://localhost:8080/"
        }
      },
      "execution_count": 145,
      "outputs": [
        {
          "output_type": "stream",
          "name": "stdout",
          "text": [
            "Initialization number:  1 \t ELBO:  108.56611574120167 \t N_iterations:  5\n",
            "=================================================\n",
            "\n",
            "Initialization number:  2 \t ELBO:  108.56611574120167 \t N_iterations:  5\n",
            "=================================================\n",
            "\n",
            "Initialization number:  3 \t ELBO:  -35673.06174421136 \t N_iterations:  1\n",
            "=================================================\n",
            "\n",
            "Initialization number:  4 \t ELBO:  108.56611574120167 \t N_iterations:  5\n",
            "=================================================\n",
            "\n",
            "Initialization number:  5 \t ELBO:  108.56611574120167 \t N_iterations:  5\n",
            "=================================================\n",
            "\n",
            "Initialization number:  6 \t ELBO:  108.56611574120167 \t N_iterations:  5\n",
            "=================================================\n",
            "\n",
            "Initialization number:  7 \t ELBO:  108.56611574120167 \t N_iterations:  5\n",
            "=================================================\n",
            "\n",
            "Initialization number:  8 \t ELBO:  108.56611574120167 \t N_iterations:  5\n",
            "=================================================\n",
            "\n",
            "Initialization number:  9 \t ELBO:  108.56611574120167 \t N_iterations:  5\n",
            "=================================================\n",
            "\n",
            "Initialization number:  10 \t ELBO:  108.56611574120167 \t N_iterations:  5\n",
            "=================================================\n",
            "\n",
            "Initialization number:  11 \t ELBO:  108.56611574120167 \t N_iterations:  5\n",
            "=================================================\n",
            "\n",
            "Initialization number:  12 \t ELBO:  108.56611574120167 \t N_iterations:  5\n",
            "=================================================\n",
            "\n",
            "Initialization number:  13 \t ELBO:  108.56611574120167 \t N_iterations:  5\n",
            "=================================================\n",
            "\n",
            "Initialization number:  14 \t ELBO:  108.56611574120167 \t N_iterations:  5\n",
            "=================================================\n",
            "\n",
            "Initialization number:  15 \t ELBO:  108.56611574120167 \t N_iterations:  5\n",
            "=================================================\n",
            "\n",
            "Initialization number:  16 \t ELBO:  108.56611574120167 \t N_iterations:  5\n",
            "=================================================\n",
            "\n",
            "Initialization number:  17 \t ELBO:  108.56611574120167 \t N_iterations:  5\n",
            "=================================================\n",
            "\n",
            "Initialization number:  18 \t ELBO:  108.56611574120167 \t N_iterations:  5\n",
            "=================================================\n",
            "\n",
            "Initialization number:  19 \t ELBO:  108.56611574120167 \t N_iterations:  5\n",
            "=================================================\n",
            "\n",
            "Initialization number:  20 \t ELBO:  108.56611574120167 \t N_iterations:  5\n",
            "=================================================\n",
            "\n",
            "Initialization number:  21 \t ELBO:  108.56611574120167 \t N_iterations:  5\n",
            "=================================================\n",
            "\n",
            "Initialization number:  22 \t ELBO:  108.56611574120167 \t N_iterations:  5\n",
            "=================================================\n",
            "\n",
            "Initialization number:  23 \t ELBO:  108.56611574120167 \t N_iterations:  5\n",
            "=================================================\n",
            "\n",
            "Initialization number:  24 \t ELBO:  108.56611574120167 \t N_iterations:  5\n",
            "=================================================\n",
            "\n",
            "Initialization number:  25 \t ELBO:  108.56611574120167 \t N_iterations:  5\n",
            "=================================================\n",
            "\n",
            "Initialization number:  26 \t ELBO:  108.56611574120167 \t N_iterations:  5\n",
            "=================================================\n",
            "\n",
            "Initialization number:  27 \t ELBO:  108.56611574120167 \t N_iterations:  5\n",
            "=================================================\n",
            "\n",
            "Initialization number:  28 \t ELBO:  108.56611574120167 \t N_iterations:  5\n",
            "=================================================\n",
            "\n",
            "Initialization number:  29 \t ELBO:  -50438.62390939004 \t N_iterations:  2\n",
            "=================================================\n",
            "\n",
            "Initialization number:  30 \t ELBO:  108.56611574120167 \t N_iterations:  5\n",
            "=================================================\n",
            "\n",
            "Initialization number:  31 \t ELBO:  108.56611574120167 \t N_iterations:  5\n",
            "=================================================\n",
            "\n",
            "Initialization number:  32 \t ELBO:  108.56611574120167 \t N_iterations:  5\n",
            "=================================================\n",
            "\n",
            "Initialization number:  33 \t ELBO:  108.56611574120167 \t N_iterations:  5\n",
            "=================================================\n",
            "\n",
            "Initialization number:  34 \t ELBO:  108.56611574120167 \t N_iterations:  5\n",
            "=================================================\n",
            "\n",
            "Initialization number:  35 \t ELBO:  108.56611574120167 \t N_iterations:  5\n",
            "=================================================\n",
            "\n",
            "Initialization number:  36 \t ELBO:  108.56611574120167 \t N_iterations:  5\n",
            "=================================================\n",
            "\n",
            "Initialization number:  37 \t ELBO:  108.56611574120167 \t N_iterations:  5\n",
            "=================================================\n",
            "\n",
            "Initialization number:  38 \t ELBO:  108.56611574120167 \t N_iterations:  5\n",
            "=================================================\n",
            "\n",
            "Initialization number:  39 \t ELBO:  108.56611574120167 \t N_iterations:  5\n",
            "=================================================\n",
            "\n",
            "Initialization number:  40 \t ELBO:  108.56611574120167 \t N_iterations:  5\n",
            "=================================================\n",
            "\n",
            "Initialization number:  41 \t ELBO:  108.56611574120167 \t N_iterations:  5\n",
            "=================================================\n",
            "\n",
            "Initialization number:  42 \t ELBO:  108.56611574120167 \t N_iterations:  5\n",
            "=================================================\n",
            "\n",
            "Initialization number:  43 \t ELBO:  108.56611574120167 \t N_iterations:  5\n",
            "=================================================\n",
            "\n",
            "Initialization number:  44 \t ELBO:  -932827.689330137 \t N_iterations:  2\n",
            "=================================================\n",
            "\n",
            "Initialization number:  45 \t ELBO:  108.56611574120167 \t N_iterations:  5\n",
            "=================================================\n",
            "\n",
            "Initialization number:  46 \t ELBO:  108.56611574120167 \t N_iterations:  5\n",
            "=================================================\n",
            "\n",
            "Initialization number:  47 \t ELBO:  108.56611574120167 \t N_iterations:  5\n",
            "=================================================\n",
            "\n",
            "Initialization number:  48 \t ELBO:  108.56611574120167 \t N_iterations:  5\n",
            "=================================================\n",
            "\n",
            "Initialization number:  49 \t ELBO:  108.56611574120167 \t N_iterations:  5\n",
            "=================================================\n",
            "\n",
            "Initialization number:  50 \t ELBO:  108.56611574120167 \t N_iterations:  5\n",
            "=================================================\n",
            "\n",
            "Initialization number:  51 \t ELBO:  108.56611574120167 \t N_iterations:  5\n",
            "=================================================\n",
            "\n",
            "Initialization number:  52 \t ELBO:  108.56611574120167 \t N_iterations:  5\n",
            "=================================================\n",
            "\n",
            "Initialization number:  53 \t ELBO:  108.56611574120167 \t N_iterations:  5\n",
            "=================================================\n",
            "\n",
            "Initialization number:  54 \t ELBO:  108.56611574120167 \t N_iterations:  5\n",
            "=================================================\n",
            "\n",
            "Initialization number:  55 \t ELBO:  108.56611574120167 \t N_iterations:  5\n",
            "=================================================\n",
            "\n",
            "Initialization number:  56 \t ELBO:  108.56611574120167 \t N_iterations:  5\n",
            "=================================================\n",
            "\n",
            "Initialization number:  57 \t ELBO:  108.56611574120167 \t N_iterations:  5\n",
            "=================================================\n",
            "\n",
            "Initialization number:  58 \t ELBO:  108.56611574120167 \t N_iterations:  5\n",
            "=================================================\n",
            "\n",
            "Initialization number:  59 \t ELBO:  108.56611574120167 \t N_iterations:  5\n",
            "=================================================\n",
            "\n",
            "Initialization number:  60 \t ELBO:  108.56611574120167 \t N_iterations:  5\n",
            "=================================================\n",
            "\n",
            "Initialization number:  61 \t ELBO:  108.56611574120167 \t N_iterations:  5\n",
            "=================================================\n",
            "\n",
            "Initialization number:  62 \t ELBO:  108.56611574120167 \t N_iterations:  5\n",
            "=================================================\n",
            "\n",
            "Initialization number:  63 \t ELBO:  108.56611574120167 \t N_iterations:  5\n",
            "=================================================\n",
            "\n",
            "Initialization number:  64 \t ELBO:  108.56611574120167 \t N_iterations:  5\n",
            "=================================================\n",
            "\n",
            "Initialization number:  65 \t ELBO:  108.56611574120167 \t N_iterations:  5\n",
            "=================================================\n",
            "\n",
            "Initialization number:  66 \t ELBO:  108.56611574120167 \t N_iterations:  5\n",
            "=================================================\n",
            "\n",
            "Initialization number:  67 \t ELBO:  108.56611574120167 \t N_iterations:  5\n",
            "=================================================\n",
            "\n",
            "Initialization number:  68 \t ELBO:  108.56611574120167 \t N_iterations:  5\n",
            "=================================================\n",
            "\n",
            "Initialization number:  69 \t ELBO:  108.56611574120167 \t N_iterations:  5\n",
            "=================================================\n",
            "\n",
            "Initialization number:  70 \t ELBO:  108.56611574120167 \t N_iterations:  5\n",
            "=================================================\n",
            "\n",
            "Initialization number:  71 \t ELBO:  108.56611574120167 \t N_iterations:  5\n",
            "=================================================\n",
            "\n",
            "Initialization number:  72 \t ELBO:  108.56611574120167 \t N_iterations:  5\n",
            "=================================================\n",
            "\n",
            "Initialization number:  73 \t ELBO:  108.56611574120167 \t N_iterations:  5\n",
            "=================================================\n",
            "\n",
            "Initialization number:  74 \t ELBO:  108.56611574120167 \t N_iterations:  5\n",
            "=================================================\n",
            "\n",
            "Initialization number:  75 \t ELBO:  108.56611574120167 \t N_iterations:  5\n",
            "=================================================\n",
            "\n",
            "Initialization number:  76 \t ELBO:  108.56611574120167 \t N_iterations:  5\n",
            "=================================================\n",
            "\n",
            "Initialization number:  77 \t ELBO:  108.56611574120167 \t N_iterations:  5\n",
            "=================================================\n",
            "\n",
            "Initialization number:  78 \t ELBO:  108.56611574120167 \t N_iterations:  5\n",
            "=================================================\n",
            "\n",
            "Initialization number:  79 \t ELBO:  108.56611574120167 \t N_iterations:  5\n",
            "=================================================\n",
            "\n",
            "Initialization number:  80 \t ELBO:  108.56611574120167 \t N_iterations:  5\n",
            "=================================================\n",
            "\n",
            "Initialization number:  81 \t ELBO:  108.56611574120167 \t N_iterations:  5\n",
            "=================================================\n",
            "\n",
            "Initialization number:  82 \t ELBO:  108.56611574120167 \t N_iterations:  5\n",
            "=================================================\n",
            "\n",
            "Initialization number:  83 \t ELBO:  108.56611574120167 \t N_iterations:  5\n",
            "=================================================\n",
            "\n",
            "Initialization number:  84 \t ELBO:  108.56611574120167 \t N_iterations:  5\n",
            "=================================================\n",
            "\n",
            "Initialization number:  85 \t ELBO:  108.56611574120167 \t N_iterations:  5\n",
            "=================================================\n",
            "\n",
            "Initialization number:  86 \t ELBO:  108.56611574120167 \t N_iterations:  5\n",
            "=================================================\n",
            "\n",
            "Initialization number:  87 \t ELBO:  35051.00105223128 \t N_iterations:  23\n",
            "=================================================\n",
            "\n",
            "Initialization number:  88 \t ELBO:  108.56611574120167 \t N_iterations:  5\n",
            "=================================================\n",
            "\n",
            "Initialization number:  89 \t ELBO:  108.56611574120167 \t N_iterations:  5\n",
            "=================================================\n",
            "\n",
            "Initialization number:  90 \t ELBO:  108.56611574120167 \t N_iterations:  5\n",
            "=================================================\n",
            "\n",
            "Initialization number:  91 \t ELBO:  108.56611574120167 \t N_iterations:  5\n",
            "=================================================\n",
            "\n",
            "Initialization number:  92 \t ELBO:  108.56611574120167 \t N_iterations:  5\n",
            "=================================================\n",
            "\n",
            "Initialization number:  93 \t ELBO:  108.56611574120167 \t N_iterations:  5\n",
            "=================================================\n",
            "\n",
            "Initialization number:  94 \t ELBO:  108.56611574120167 \t N_iterations:  5\n",
            "=================================================\n",
            "\n",
            "Initialization number:  95 \t ELBO:  108.56611574120167 \t N_iterations:  5\n",
            "=================================================\n",
            "\n",
            "Initialization number:  96 \t ELBO:  108.56611574120167 \t N_iterations:  5\n",
            "=================================================\n",
            "\n",
            "Initialization number:  97 \t ELBO:  108.56611574120167 \t N_iterations:  5\n",
            "=================================================\n",
            "\n",
            "Initialization number:  98 \t ELBO:  108.56611574120167 \t N_iterations:  5\n",
            "=================================================\n",
            "\n",
            "Initialization number:  99 \t ELBO:  108.56611574120167 \t N_iterations:  5\n",
            "=================================================\n",
            "\n",
            "Initialization number:  100 \t ELBO:  108.56611574120167 \t N_iterations:  5\n",
            "=================================================\n",
            "\n",
            "Best initialization at  87  \t ELBO:  35051.00105223128 \n",
            "\n",
            "\n"
          ]
        }
      ]
    },
    {
      "cell_type": "code",
      "source": [
        "  key = random.PRNGKey(i*seed)\n",
        "  # random initialization of the variational parameters\n",
        "  phi_means=random.normal(key,shape=(K,d))*jnp.sqrt(sigma2a)\n",
        "  phi_variances= random.gamma(key,a=2.0,shape=(K,))\n",
        "  tau=jnp.array(random.geometric(key,0.25,(K,2)), dtype=jnp.float64)\n",
        "  nu=random.beta(key,5,5,shape=(N,K),dtype=jnp.float64)\n",
        "  nu=jnp.cumprod(nu,axis=1)"
      ],
      "metadata": {
        "id": "APARxevSAwwa"
      },
      "execution_count": 178,
      "outputs": []
    },
    {
      "cell_type": "code",
      "source": [
        "    phi_means,phi_variances=update_phi_jit(data,nu,sigma2a,sigma2x,phi_means)\n",
        "    tau=update_tau_jit(nu,alpha)\n",
        "    #nu=update_nu_jit(data,phi_means,phi_variances,nu,sigma2x,alpha,tau)"
      ],
      "metadata": {
        "id": "YRsMF5GOCfKo"
      },
      "execution_count": 181,
      "outputs": []
    },
    {
      "cell_type": "code",
      "source": [
        "  N=data.shape[0]\n",
        "  K=phi_means.shape[0]\n",
        "  d=data.shape[1]\n",
        "  log_likelihood=jnp.zeros((N,K),dtype=jnp.float64)\n",
        "  updated_nu=jnp.zeros((N,K),dtype=jnp.float64)\n",
        "  log_likelihood=log_likelihood.at[:,:].add(1/sigma2x*(data @ phi_means.T - ((nu @ phi_means) @ phi_means.T)))\n",
        "  log_likelihood=log_likelihood.at[:,:].add(1/sigma2x*nu*jnp.resize(jnp.diag(phi_means @ phi_means.T),(K)) + digamma(tau[:,0])-digamma(tau[:,1]))\n",
        "  log_likelihood=log_likelihood.at[:,:].add(-0.5/sigma2x*jnp.resize(d*phi_variances,(K,)))\n",
        "  log_likelihood=log_likelihood.at[:,:].add(-0.5/sigma2x*jnp.resize(jnp.diag(phi_means @ phi_means.T),(K,)))\n",
        "  updated_nu=1/(1+jnp.exp(-log_likelihood))\n",
        "  updated_nu=updated_nu.at[:,:].max(10**(-307))\n",
        "  updated_nu=updated_nu.at[:,:].min(1-10**(-5))\n",
        "  #nu=updated_nu\n",
        "  updated_nu"
      ],
      "metadata": {
        "id": "s10yyE7uCiVU",
        "outputId": "bc611d5b-7406-4577-b529-09f2231399e2",
        "colab": {
          "base_uri": "https://localhost:8080/"
        }
      },
      "execution_count": 185,
      "outputs": [
        {
          "output_type": "execute_result",
          "data": {
            "text/plain": [
              "Array([[2.93404035e-172, 1.00000000e-307, 1.00000000e-307, ...,\n",
              "        2.00077665e-010, 2.00077665e-010, 2.00077665e-010],\n",
              "       [1.00000000e-307, 1.00000000e-307, 1.00000000e-307, ...,\n",
              "        1.98015349e-010, 1.98015349e-010, 1.98015349e-010],\n",
              "       [2.07326080e-169, 1.00000000e-307, 1.00000000e-307, ...,\n",
              "        2.00128694e-010, 2.00128694e-010, 2.00128694e-010],\n",
              "       ...,\n",
              "       [3.56641997e-153, 1.00000000e-307, 1.00000000e-307, ...,\n",
              "        2.00132576e-010, 2.00132576e-010, 2.00132576e-010],\n",
              "       [1.27963136e-185, 1.00000000e-307, 1.00000000e-307, ...,\n",
              "        2.00074677e-010, 2.00074677e-010, 2.00074677e-010],\n",
              "       [9.79646877e-161, 1.00000000e-307, 1.00000000e-307, ...,\n",
              "        2.00130729e-010, 2.00130729e-010, 2.00130729e-010]],      dtype=float64)"
            ]
          },
          "metadata": {},
          "execution_count": 185
        }
      ]
    },
    {
      "cell_type": "code",
      "source": [
        "t=jnp.zeros(d)\n",
        "for i in range(K):\n",
        "  t+=nu[N-1,i]*phi_means[i,:]\n",
        "phi_means[K-1,:] @ t"
      ],
      "metadata": {
        "id": "HeidzoeEDrS7",
        "outputId": "6e86f8f6-921f-4632-b8aa-32329a1df5bc",
        "colab": {
          "base_uri": "https://localhost:8080/"
        }
      },
      "execution_count": 196,
      "outputs": [
        {
          "output_type": "execute_result",
          "data": {
            "text/plain": [
              "Array(5.19079941e-16, dtype=float64)"
            ]
          },
          "metadata": {},
          "execution_count": 196
        }
      ]
    },
    {
      "cell_type": "code",
      "source": [
        "((nu @ phi_means) @ phi_means.T)"
      ],
      "metadata": {
        "id": "x3bPyxBgDg0l",
        "outputId": "98faea84-b1ac-45f1-d5c0-e17ed2ab9701",
        "colab": {
          "base_uri": "https://localhost:8080/"
        }
      },
      "execution_count": 188,
      "outputs": [
        {
          "output_type": "execute_result",
          "data": {
            "text/plain": [
              "Array([[4.84238530e+02, 9.51902186e+02, 1.26499010e+03, ...,\n",
              "        2.50859998e-04, 2.50859997e-04, 2.50859997e-04],\n",
              "       [2.02672568e+04, 3.99945802e+04, 5.31542433e+04, ...,\n",
              "        1.05077137e-02, 1.05077137e-02, 1.05077137e-02],\n",
              "       [1.37707471e-05, 2.70711173e-05, 3.59750476e-05, ...,\n",
              "        7.13399448e-12, 7.13399447e-12, 7.13399447e-12],\n",
              "       ...,\n",
              "       [2.68106117e-02, 5.27038415e-02, 7.00385486e-02, ...,\n",
              "        1.38892667e-08, 1.38892667e-08, 1.38892667e-08],\n",
              "       [4.84234138e+02, 9.51893499e+02, 1.26497855e+03, ...,\n",
              "        2.50857719e-04, 2.50857719e-04, 2.50857719e-04],\n",
              "       [1.00142798e-09, 1.97397763e-09, 2.62341443e-09, ...,\n",
              "        5.19079943e-16, 5.19079942e-16, 5.19079941e-16]], dtype=float64)"
            ]
          },
          "metadata": {},
          "execution_count": 188
        }
      ]
    }
  ]
}