{
  "nbformat": 4,
  "nbformat_minor": 0,
  "metadata": {
    "colab": {
      "provenance": []
    },
    "kernelspec": {
      "name": "python3",
      "display_name": "Python 3"
    },
    "language_info": {
      "name": "python"
    }
  },
  "cells": [
    {
      "cell_type": "code",
      "execution_count": 1,
      "metadata": {
        "colab": {
          "base_uri": "https://localhost:8080/"
        },
        "id": "4S7_Dj4ZwpqQ",
        "outputId": "9e80cf4a-f2c2-4240-f087-12f176d146d1"
      },
      "outputs": [
        {
          "output_type": "stream",
          "name": "stdout",
          "text": [
            "Collecting mycolorpy\n",
            "  Downloading mycolorpy-1.5.1.tar.gz (2.5 kB)\n",
            "  Preparing metadata (setup.py) ... \u001b[?25l\u001b[?25hdone\n",
            "Requirement already satisfied: numpy in /usr/local/lib/python3.10/dist-packages (from mycolorpy) (1.23.5)\n",
            "Requirement already satisfied: matplotlib in /usr/local/lib/python3.10/dist-packages (from mycolorpy) (3.7.1)\n",
            "Requirement already satisfied: contourpy>=1.0.1 in /usr/local/lib/python3.10/dist-packages (from matplotlib->mycolorpy) (1.2.0)\n",
            "Requirement already satisfied: cycler>=0.10 in /usr/local/lib/python3.10/dist-packages (from matplotlib->mycolorpy) (0.12.1)\n",
            "Requirement already satisfied: fonttools>=4.22.0 in /usr/local/lib/python3.10/dist-packages (from matplotlib->mycolorpy) (4.47.2)\n",
            "Requirement already satisfied: kiwisolver>=1.0.1 in /usr/local/lib/python3.10/dist-packages (from matplotlib->mycolorpy) (1.4.5)\n",
            "Requirement already satisfied: packaging>=20.0 in /usr/local/lib/python3.10/dist-packages (from matplotlib->mycolorpy) (23.2)\n",
            "Requirement already satisfied: pillow>=6.2.0 in /usr/local/lib/python3.10/dist-packages (from matplotlib->mycolorpy) (9.4.0)\n",
            "Requirement already satisfied: pyparsing>=2.3.1 in /usr/local/lib/python3.10/dist-packages (from matplotlib->mycolorpy) (3.1.1)\n",
            "Requirement already satisfied: python-dateutil>=2.7 in /usr/local/lib/python3.10/dist-packages (from matplotlib->mycolorpy) (2.8.2)\n",
            "Requirement already satisfied: six>=1.5 in /usr/local/lib/python3.10/dist-packages (from python-dateutil>=2.7->matplotlib->mycolorpy) (1.16.0)\n",
            "Building wheels for collected packages: mycolorpy\n",
            "  Building wheel for mycolorpy (setup.py) ... \u001b[?25l\u001b[?25hdone\n",
            "  Created wheel for mycolorpy: filename=mycolorpy-1.5.1-py3-none-any.whl size=3851 sha256=bcd03aeefdec10255c69b866c98f3d88938c6f5e26681a56961a1e05cff1f222\n",
            "  Stored in directory: /root/.cache/pip/wheels/d6/1d/04/f8bfb8b04e3daba330b3f377c041b89304271ff98fb6704946\n",
            "Successfully built mycolorpy\n",
            "Installing collected packages: mycolorpy\n",
            "Successfully installed mycolorpy-1.5.1\n"
          ]
        }
      ],
      "source": [
        "import jax.numpy as jnp\n",
        "from jax import grad, jit, vmap\n",
        "from jax import random\n",
        "import numpy as np\n",
        "import jax\n",
        "from scipy.stats import beta\n",
        "from jax.scipy.special import betaln\n",
        "from jax.scipy.special import gammaln\n",
        "from jax.scipy.special import digamma\n",
        "from numpy.random import multivariate_normal as mvn\n",
        "from numpy.random import gamma\n",
        "import matplotlib.pyplot as plt\n",
        "from matplotlib import cm\n",
        "from scipy.stats import multivariate_normal\n",
        "from sklearn.metrics import adjusted_rand_score\n",
        "import matplotlib.pyplot as plt\n",
        "!pip install mycolorpy\n",
        "from mycolorpy import colorlist as mcp\n",
        "from scipy.stats import bernoulli"
      ]
    },
    {
      "cell_type": "code",
      "source": [
        "seed = 2022\n",
        "key = random.PRNGKey(seed)\n",
        "\n",
        "n = 1000\n",
        "d = 2"
      ],
      "metadata": {
        "id": "STbxIi84xi8s"
      },
      "execution_count": 2,
      "outputs": []
    },
    {
      "cell_type": "code",
      "source": [
        "# n of cluster and pi generation\n",
        "k = 50\n",
        "\n",
        "alpha = 5.0 #bigger alpha, more clusters\n",
        "vi = beta.rvs(alpha, 1, size = k)\n",
        "\n",
        "pi = np.cumprod(vi)"
      ],
      "metadata": {
        "id": "zqYrHWtixmMZ"
      },
      "execution_count": 3,
      "outputs": []
    },
    {
      "cell_type": "code",
      "source": [
        "# Z generation\n",
        "\n",
        "Z = np.zeros((n,k))\n",
        "\n",
        "for i in range(0, n):\n",
        "  for j in range(0, k):\n",
        "    Z[i,j] = bernoulli.rvs(pi[j])"
      ],
      "metadata": {
        "id": "mLl2PEGT2i4m"
      },
      "execution_count": 4,
      "outputs": []
    },
    {
      "cell_type": "code",
      "source": [
        "# A generation\n",
        "\n",
        "A = np.zeros((k,d))\n",
        "sigma2a = 1.0\n",
        "Id = np.eye(d)\n",
        "mu0 = np.zeros(d)\n",
        "\n",
        "for i in range(0, k):\n",
        "  A[i] = mvn(mu0, sigma2a*Id)"
      ],
      "metadata": {
        "id": "NIaHd9vl9NKy"
      },
      "execution_count": 5,
      "outputs": []
    },
    {
      "cell_type": "code",
      "source": [
        "# Finally X\n",
        "X=np.zeros((n,d))\n",
        "sigma2x=1.0\n",
        "for i in range(n):\n",
        "  X[i,:] = mvn(jnp.matmul(Z[i,:],A),sigma2x*Id)"
      ],
      "metadata": {
        "id": "ezGZIU8y_18M"
      },
      "execution_count": 11,
      "outputs": []
    },
    {
      "cell_type": "code",
      "source": [
        "x = X[:,0]\n",
        "y = X[:,1]\n",
        "\n",
        "plt.scatter(x, y)\n",
        "plt.show()"
      ],
      "metadata": {
        "colab": {
          "base_uri": "https://localhost:8080/",
          "height": 430
        },
        "id": "yGuPy7mAH78f",
        "outputId": "55c6239d-cb92-4c77-b79e-aa39bfafc3a9"
      },
      "execution_count": 12,
      "outputs": [
        {
          "output_type": "display_data",
          "data": {
            "text/plain": [
              "<Figure size 640x480 with 1 Axes>"
            ],
            "image/png": "[encoded data removed]"
          },
          "metadata": {}
        }
      ]
    },
    {
      "cell_type": "code",
      "source": [
        "def compute_ELBO(data,phi_means,phi_variances,tau,nu,sigma2a,sigma2x,alpha):\n",
        "  K=phi_means.shape[0]\n",
        "  d=data.shape[1]\n",
        "  N=data.shape[0]\n",
        "  T1=jnp.sum(betaln(tau[:,0],tau[:,1]))+jnp.sum(-(tau[:,0]-1)*digamma(tau[:,0])-(tau[:,1]-1)*digamma(tau[:,1])+(tau[:,0]+tau[:,1]-2)*digamma(tau[:,0]+tau[:,1]))\n",
        "  T1+= d/2*jnp.sum(jnp.log(jnp.linalg.det(phi_variances))) # da adattare in base a come rappresentiamo phi_variances\n",
        "  T1+= jnp.sum(-nu*jnp.log2(nu)-(1-nu)*jnp.log2(1-nu))\n",
        "\n",
        "  T2=(alpha/K-1)*jnp.sum(digamma(tau[:,0])-digamma(tau[:,0]+tau[:,1]))\n",
        "\n",
        "  T3 = -0.5/sigma2a*(jnp.sum(jnp.sum(jnp.diag(phi_variances[???]))) + jnp.sum(jnp.diag(phi_means @ phi.means.T))) # il primo elemento è la traccia di phi_variances di k\n",
        "\n",
        "  T4 = jnp.sum( nu @ (digamma(tau[:,0])-digamma(tau[:,0]+tau[:,1])) + (1-nu) @ (digamma(tau[:,1])-digamma(tau[:,0]+tau[:,1])))\n",
        "\n",
        "  traces= ??? # vector for traces of phi_variances,it is convenient to do it before and use it afterwards\n",
        "  T5 = -0.5/sigma2x*(-2*jnp.sum(jnp.diag((nu @ phi_means) @ data.T))+ jnp.sum(nu @ (traces + jnp.diag(phi_means @ phi_means.T)))"
      ],
      "metadata": {
        "id": "rgbSXqEiVD6p"
      },
      "execution_count": null,
      "outputs": []
    },
    {
      "cell_type": "code",
      "source": [
        "def single_iteration_VI(data,K,i,nMax,tol,sigma2a,sigma2x,alpha):\n",
        "\n",
        "  # initialize the parameters\n",
        "  N=data.shape[0]\n",
        "  d=data.shape[1]\n",
        "  key = random.PRNGKey(i*seed)\n",
        "  # random initialization of the variational parameters\n",
        "  phi_means==random.normal(key,shape=(K,d))*jnp.sqrt(sigma2a)\n",
        "  phi_variances= # dobbiamo pensare a come inizializarlo\n",
        "  tau=jnp.array(random.geometric(key,0.25,(K,2)), dtype=float)\n",
        "  nu=random.uniform(key,shape=(N,K))\n",
        "  improvement=1\n",
        "  ELBO_new=compute_ELBO_jit()\n",
        "  ELBO_old=ELBO_new-1\n",
        "  nit=0\n",
        "\n",
        "  # codition funztion for the while loop\n",
        "  def cond(state):\n",
        "    _,_,_,_,_,_,_,nit,ELBO,improvement,tol,nMax=state\n",
        "    return (((improvement>tol) & (nit<nMax)))\n",
        "\n",
        "  # body function for the while loop\n",
        "  def iteration_while(state):\n",
        "    data,gamma,tau1,tau2,phi,a_t,b_t,nit,ELBO_new,improvement,tol,nMax=state\n",
        "    # update of variational parameters\n",
        "    phi_means,phi_variances=update_phi_jit()\n",
        "    tau=update_tau_jit()\n",
        "    nu=update_nu()\n",
        "    # we resize tau2 this way for matrix multiplications\n",
        "    ELBO_old=ELBO_new\n",
        "    # computation of ELBO and imporvement\n",
        "    ELBO_new=compute_ELBO_jit()\n",
        "    improvement=ELBO_new-ELBO_old\n",
        "    nit+=1\n",
        "    return (data,gamma,tau1,tau2,phi,a_t,b_t,nit,ELBO_new,improvement,tol,nMax)\n",
        "\n",
        "  state=(data,gamma,tau1,tau2,phi,a_t,b_t,nit,ELBO_new,improvement,tol,nMax)\n",
        "  _,gamma,tau1,tau2,phi,a_t,b_t,nit,ELBO_new,improvement,_,_=jax.lax.while_loop(cond_fun=cond,body_fun=iteration_while,init_val=state)\n",
        "  tau=[tau1,tau2]\n",
        "\n",
        "  return  gamma,tau,phi,a_t,b_t,ELBO_new,nit\n",
        "\n",
        "single_iteration_VI_jit=jit(single_iteration_VI,static_argnames=['T'])"
      ],
      "metadata": {
        "id": "b1sVkUMwTE66"
      },
      "execution_count": null,
      "outputs": []
    },
    {
      "cell_type": "code",
      "source": [
        "def VI(data,K,nMax,n_iniz,tol,sigma2a,sigma2x,alpha):\n",
        "  ELBO_max=0\n",
        "  for i in range(n_iniz):\n",
        "    # every iteration we call the algorithm function, then if the ELBO is better than the one before we save it, otherwise we simply go on\n",
        "    tau,phi_means,phi_variances,nu,ELBO_new,nit=single_iteration_VI_jit(data,T,i,nMax,tol,sigma,alpha,a,b)\n",
        "    if i==0:\n",
        "      ELBO_max=ELBO_new\n",
        "      phi_means_max=phi_means\n",
        "      phi_variances_max=phi_variances\n",
        "      tau_max=tau\n",
        "      nu_max=nu\n",
        "      n_max=0\n",
        "    print('Initialization number: ',i+1,'\\t ELBO: ',ELBO_new,'\\t N_iterations: ',nit)\n",
        "    print('=================================================\\n')\n",
        "    if ELBO_new>ELBO_max:\n",
        "      ELBO_max=ELBO_new\n",
        "      phi_means_max=phi_means\n",
        "      phi_variances_max=phi_variances\n",
        "      tau_max=tau\n",
        "      nu_max=nu\n",
        "      n_max=i\n",
        "  print('Best initialization at ',n_max+1,' \\t ELBO: ',ELBO_max,'\\n\\n')\n",
        "  return tau,phi_means,phi_variances,nu\n"
      ],
      "metadata": {
        "id": "CmX4SzwNSGrY"
      },
      "execution_count": null,
      "outputs": []
    }
  ]
}