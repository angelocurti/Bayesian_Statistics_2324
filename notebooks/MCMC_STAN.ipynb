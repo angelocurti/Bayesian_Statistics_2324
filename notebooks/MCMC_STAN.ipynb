{
  "nbformat": 4,
  "nbformat_minor": 0,
  "metadata": {
    "colab": {
      "provenance": []
    },
    "kernelspec": {
      "name": "python3",
      "display_name": "Python 3"
    },
    "language_info": {
      "name": "python"
    }
  },
  "cells": [
    {
      "cell_type": "code",
      "source": [
        "!pip install --upgrade cmdstanpy\n",
        "!pip install git+https://github.com/OriolAbril/arviz.git@ci\n",
        "\n",
        "from cmdstanpy import install_cmdstan\n",
        "install_cmdstan()"
      ],
      "metadata": {
        "id": "0MeJuhsB503i"
      },
      "execution_count": null,
      "outputs": []
    },
    {
      "cell_type": "code",
      "source": [
        "import arviz as az\n",
        "import matplotlib.pyplot as plt\n",
        "import numpy as np\n",
        "import os\n",
        "import pandas as pd\n",
        "import seaborn as sns\n",
        "\n",
        "# Import functions\n",
        "from cmdstanpy import CmdStanModel\n",
        "from tensorflow_probability.substrates import numpy as tfp\n",
        "tfd = tfp.distributions\n",
        "\n",
        "# Create ./stan folder if does not exists\n",
        "if not os.path.exists(\"./stan\"):\n",
        "    os.mkdir(\"./stan\")"
      ],
      "metadata": {
        "id": "6ADeSWRNlUTx"
      },
      "execution_count": 2,
      "outputs": []
    },
    {
      "cell_type": "code",
      "execution_count": null,
      "metadata": {
        "id": "-Pdwrj3VlQ8N"
      },
      "outputs": [],
      "source": [
        "import jax.numpy as jnp\n",
        "from jax import grad, jit, vmap\n",
        "from jax import random\n",
        "import numpy as np\n",
        "import jax\n",
        "!pip install mycolorpy"
      ]
    },
    {
      "cell_type": "markdown",
      "source": [
        "# **Data** **Generation**"
      ],
      "metadata": {
        "id": "AIv1jf_3l5aE"
      }
    },
    {
      "cell_type": "code",
      "source": [
        "from IPython.utils.sysinfo import num_cpus\n",
        "\n",
        "# numero di cluster\n",
        "K = 5\n",
        "\n",
        "# dimensione del campione\n",
        "d = 2\n",
        "\n",
        "# numero di sample\n",
        "N = 1000\n",
        "\n",
        "seed = 2001\n",
        "key = random.PRNGKey(seed)\n",
        "# vectors of mean of clusters\n",
        "sigma = 10\n",
        "mu = random.normal(key,(K,d))*sigma\n",
        "\n",
        "# cluster assignment\n",
        "key = random.PRNGKey(2)\n",
        "c = random.categorical(key,(1/K)*jnp.ones(shape=(K,)),axis=0,shape=(N,))\n",
        "C = np.zeros(shape=(N,K))\n",
        "for i in range(N):\n",
        "  C[i,c[i]] = 1\n",
        "C = jnp.array(C)\n",
        "\n",
        "# Data\n",
        "X = jnp.matmul(C,mu) + random.normal(key,(N,d))\n",
        "import matplotlib.pyplot as plt\n",
        "\n",
        "for i in range(K):\n",
        "  plt.scatter(X[c==i,0], X[c==i,1], s = 20)\n",
        "plt.show()"
      ],
      "metadata": {
        "id": "eqrDkNy6lUem",
        "colab": {
          "base_uri": "https://localhost:8080/",
          "height": 430
        },
        "outputId": "d0beecf0-15ed-4476-e9ef-8aeaffea37b6"
      },
      "execution_count": 4,
      "outputs": [
        {
          "output_type": "display_data",
          "data": {
            "text/plain": [
              "<Figure size 640x480 with 1 Axes>"
            ],
            "image/png": "[encoded data removed]"
          },
          "metadata": {}
        }
      ]
    },
    {
      "cell_type": "markdown",
      "source": [
        "Implementation of MCMC in STAN(based on hamiltonian MC)"
      ],
      "metadata": {
        "id": "GO9qJV0cmZgH"
      }
    },
    {
      "cell_type": "code",
      "source": [
        "gaussian_mix_uni = \"\"\"\n",
        "data {\n",
        "  int N;\n",
        "  int K;\n",
        "  int d;\n",
        "  matrix[N, d] y;\n",
        "  vector[d] mu0;\n",
        "  real <lower=0> sigma0;\n",
        "}\n",
        "\n",
        "parameters {\n",
        "  matrix[K,d] means;\n",
        "  simplex[K] weights;\n",
        "}\n",
        "\n",
        "transformed parameters {\n",
        "}\n",
        "\n",
        "model {\n",
        "\n",
        "   //Likelihood\n",
        "   vector[K] contributions;\n",
        "   for (i in 1:N){\n",
        "     for (k in 1:K){\n",
        "      contributions[k] = log(weights[k]) + multi_normal_lpdf(y[i] | means[k], diag_matrix(rep_vector(1,d)));\n",
        "      }\n",
        "      target += log_sum_exp(contributions);\n",
        "    }\n",
        "\n",
        "\n",
        "   // Prior\n",
        "   for(k in 1:K){\n",
        "    means[k] ~ multi_normal(mu0, sigma0 * diag_matrix(rep_vector(1,d)));\n",
        "   }\n",
        "   weights ~ dirichlet(rep_vector(1,K));\n",
        "\n",
        "\n",
        "}\n",
        "\n",
        "generated quantities{\n",
        "  array [N] int cluster_allocs;\n",
        "  matrix [N,K] phi;\n",
        "  for(i in 1:N){\n",
        "    vector [K] log_probs = log(weights);\n",
        "    for(k in 1:K){\n",
        "      log_probs[k] += multi_normal_lpdf(y[i] | means[k], diag_matrix(rep_vector(1,d)));\n",
        "      }\n",
        "    phi[i] = to_row_vector(softmax(log_probs));\n",
        "    cluster_allocs[i] = categorical_rng(softmax(log_probs));\n",
        "  }\n",
        "}\n",
        "\"\"\"\n",
        "\n",
        "# Write stan model to file\n",
        "stan_file = \"./stan/gaussian_mix_uni.stan\"\n",
        "with open(stan_file, \"w\") as f:\n",
        "    print(gaussian_mix_uni, file=f)\n",
        "\n",
        "# Compile stan model\n",
        "gaussian_mix_uni = CmdStanModel(stan_file=stan_file)"
      ],
      "metadata": {
        "id": "1sewipbdQVIy"
      },
      "execution_count": null,
      "outputs": []
    },
    {
      "cell_type": "code",
      "source": [
        "# Input data\n",
        "gmm_data = {\n",
        "    \"N\": N,\n",
        "    \"K\": K,\n",
        "    \"d\": d,\n",
        "    \"y\": X.tolist(),\n",
        "    \"mu0\": np.full(d,0.0),\n",
        "    \"sigma0\": 10.0,\n",
        "}\n",
        "\n",
        "# Algorithm parameters\n",
        "algo_params = {\n",
        "    \"n_chains\": 1,\n",
        "    \"n_burnin\": 1000,\n",
        "    \"n_iter\": 2000,\n",
        "}\n",
        "\n",
        "# Sample\n",
        "gmm_fit = gaussian_mix_uni.sample(data=gmm_data, chains=algo_params[\"n_chains\"], parallel_chains=algo_params[\"n_chains\"],\n",
        "                                  iter_warmup=algo_params[\"n_burnin\"], iter_sampling=algo_params[\"n_iter\"])\n",
        "# Convert to arviz data type\n",
        "chains = az.from_cmdstanpy(gmm_fit)"
      ],
      "metadata": {
        "id": "qsGMqtj_rNJ6"
      },
      "execution_count": null,
      "outputs": []
    },
    {
      "cell_type": "code",
      "source": [
        "az.plot_trace(chains, var_names=[\"means\"], compact=False)\n",
        "plt.tight_layout()\n",
        "plt.show()"
      ],
      "metadata": {
        "id": "4yg4UFC9H2we"
      },
      "execution_count": null,
      "outputs": []
    },
    {
      "cell_type": "code",
      "source": [
        "gmm_fit.summary()"
      ],
      "metadata": {
        "id": "buDxL-CNdaSP"
      },
      "execution_count": null,
      "outputs": []
    },
    {
      "cell_type": "code",
      "source": [
        "import matplotlib.pyplot as plt\n",
        "from mycolorpy import colorlist as mcp\n",
        "\n",
        "def plot_clusters(data, phi, means):\n",
        "    # Get the cluster assignments\n",
        "    cluster_assignments = jnp.argmax(phi, axis=1)\n",
        "\n",
        "    # Number of clusters\n",
        "    num_clusters = means.shape[0]\n",
        "\n",
        "    # Create a list of colors for plotting\n",
        "    #colors = plt.colormaps()\n",
        "    colors=mcp.gen_color(cmap=\"winter\",n=6)\n",
        "    print(colors)\n",
        "\n",
        "    # Scatter plot each data point with its assigned color\n",
        "    plt.figure(figsize=(8, 6))\n",
        "    for cluster in range(num_clusters):\n",
        "        plt.scatter(data[cluster_assignments == cluster, 0], data[cluster_assignments == cluster, 1], c=colors[cluster], label=f'Cluster {cluster}')\n",
        "\n",
        "    # Plot the cluster means\n",
        "    for cluster in range(num_clusters):\n",
        "        plt.scatter(means[cluster, 0], means[cluster, 1], marker='x', color='red', s=100, label=f'Mean Cluster {cluster}')\n",
        "\n",
        "    plt.legend()\n",
        "    plt.title('Cluster Visualization')\n",
        "    plt.xlabel('Feature 1')\n",
        "    plt.ylabel('Feature 2')\n",
        "    plt.show()"
      ],
      "metadata": {
        "id": "Wh75VyDnYbLA"
      },
      "execution_count": 15,
      "outputs": []
    },
    {
      "cell_type": "code",
      "source": [],
      "metadata": {
        "id": "g3gCblIZMfZK"
      },
      "execution_count": null,
      "outputs": []
    },
    {
      "cell_type": "code",
      "source": [
        "plot_clusters(X, phi_likelihood, means)"
      ],
      "metadata": {
        "id": "ob5cvAukbeu2"
      },
      "execution_count": null,
      "outputs": []
    }
  ]
}